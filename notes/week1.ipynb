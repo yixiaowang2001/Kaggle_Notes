{
 "cells": [
  {
   "cell_type": "markdown",
   "id": "4200baba",
   "metadata": {},
   "source": [
    "# How to Win a Data Science: Learn from Top Kagglers\n",
    "\n",
    "## 1 Course Overview\n",
    "\n",
    "### Week 1\n",
    "\n",
    "+ Intro to competitions & Recap\n",
    "+ Feature preprocessing & extraction\n",
    "\n",
    "### Week 2\n",
    "\n",
    "+ EDA\n",
    "+ Validation\n",
    "+ Data leaks\n",
    "\n",
    "### Week 3\n",
    "\n",
    "+ Metrics\n",
    "+ Mean-encoding\n",
    "\n",
    "### Week 4\n",
    "\n",
    "+ Advanced features\n",
    "+ Hpyerparameter optimization\n",
    "+ Ensembles\n",
    "\n",
    "### Week 5\n",
    "\n",
    "+ Final project\n",
    "+ Winning solutions"
   ]
  },
  {
   "cell_type": "markdown",
   "id": "ca6a9a7e",
   "metadata": {},
   "source": [
    "## 2 Competitions Mechanics\n",
    "\n",
    "+ Data\n",
    "+ Model\n",
    "+ Submission\n",
    "+ Evaluation\n",
    "+ Leaderboard"
   ]
  }
 ],
 "metadata": {
  "kernelspec": {
   "display_name": "Python 3 (ipykernel)",
   "language": "python",
   "name": "python3"
  },
  "language_info": {
   "codemirror_mode": {
    "name": "ipython",
    "version": 3
   },
   "file_extension": ".py",
   "mimetype": "text/x-python",
   "name": "python",
   "nbconvert_exporter": "python",
   "pygments_lexer": "ipython3",
   "version": "3.9.7"
  }
 },
 "nbformat": 4,
 "nbformat_minor": 5
}
